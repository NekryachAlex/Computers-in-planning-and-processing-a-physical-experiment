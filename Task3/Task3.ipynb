{
 "cells": [
  {
   "cell_type": "code",
   "execution_count": 1,
   "metadata": {},
   "outputs": [
    {
     "name": "stdout",
     "output_type": "stream",
     "text": [
      "Welcome to JupyROOT 6.18/04\n"
     ]
    }
   ],
   "source": [
    "import ROOT\n",
    "import numpy as np"
   ]
  },
  {
   "cell_type": "code",
   "execution_count": 2,
   "metadata": {},
   "outputs": [],
   "source": [
    "import math"
   ]
  },
  {
   "cell_type": "code",
   "execution_count": 3,
   "metadata": {},
   "outputs": [],
   "source": [
    "def f(xx, pp):\n",
    "    x, y = xx[0], xx[1]\n",
    "    p = pp[0]\n",
    "    return 1/((x**2) * (y + np.sin(x)/2))*p\n",
    "\n",
    "\n",
    "xa = 0.01\n",
    "xb = 1\n",
    "ya = 0\n",
    "yb = 1"
   ]
  },
  {
   "cell_type": "code",
   "execution_count": 4,
   "metadata": {},
   "outputs": [
    {
     "data": {
      "image/png": "[encoded data removed]",
      "text/plain": [
       "<IPython.core.display.Image object>"
      ]
     },
     "metadata": {},
     "output_type": "display_data"
    }
   ],
   "source": [
    "canvas = ROOT.TCanvas()\n",
    "function = ROOT.TF2(\"function\", f, xa, xb, ya, yb, 1)\n",
    "function.SetParameter(0,1)\n",
    "function.Draw(\"surf1\")\n",
    "canvas.Draw()"
   ]
  },
  {
   "cell_type": "code",
   "execution_count": 5,
   "metadata": {},
   "outputs": [],
   "source": [
    "def integrate(function,pp, a, b, N):\n",
    "    ax, ay = a[0], a[1]\n",
    "    bx, by = b[0], b[1]\n",
    "    result = 0 \n",
    "    for j in range(0, N):\n",
    "        xj = ROOT.gRandom.Uniform(ax, bx)\n",
    "        yj = ROOT.gRandom.Uniform(ay, by)\n",
    "        fj = function((xj, yj), pp)\n",
    "        result += fj*(bx-ax)*(by-ay)\n",
    "    return result/N"
   ]
  },
  {
   "cell_type": "code",
   "execution_count": 77,
   "metadata": {},
   "outputs": [],
   "source": [
    "def deviation(squared_sum, sum_, N):\n",
    "    return ROOT.TMath.Sqrt(squared_sum/N - 2*(sum_/N)*(sum_/N/N) + sum_**2/N**3)"
   ]
  },
  {
   "cell_type": "code",
   "execution_count": 246,
   "metadata": {},
   "outputs": [],
   "source": [
    "def average_method_stat(function, pp, a, b, steps_number, step_range):\n",
    "    \n",
    "    results = ([], [])\n",
    "    errors = ([], [])\n",
    "    \n",
    "    \n",
    "    ax, ay = a[0], a[1]\n",
    "    bx, by = b[0], b[1]\n",
    "    \n",
    "    squares_sum = 0 \n",
    "    single_squares_sum = 0\n",
    "    \n",
    "    sum_ = 0\n",
    "    single_sum_ = 0\n",
    "    for event_number in range(1, steps_number*step_range+1):\n",
    "        if event_number % step_range == 0:\n",
    "            results[0].append(single_sum_/step_range)\n",
    "            results[1].append(sum_/event_number)\n",
    "  \n",
    "            errors[0].append(((bx-ax)*(by-ay)/ROOT.TMath.Sqrt(step_range))*deviation(single_squares_sum,single_sum_,step_range))\n",
    "            errors[1].append(((bx-ax)*(by-ay)/ROOT.TMath.Sqrt(event_number)) *deviation(squares_sum,sum_,event_number))\n",
    "            \n",
    "            single_sum_ = 0\n",
    "            single_squares_sum = 0\n",
    "            \n",
    "        xj = ROOT.gRandom.Uniform(ax, bx)\n",
    "        yj = ROOT.gRandom.Uniform(ay, by)\n",
    "        fj = function((xj, yj), pp)\n",
    "        current_integral = fj*(bx-ax)*(by-ay)\n",
    "        sum_ += current_integral\n",
    "        single_sum_ += current_integral\n",
    "        \n",
    "        squares_sum += current_integral**2\n",
    "        single_squares_sum += current_integral**2\n",
    "        \n",
    "    return (results, errors)"
   ]
  },
  {
   "cell_type": "code",
   "execution_count": 247,
   "metadata": {},
   "outputs": [],
   "source": [
    "steps_number = 10\n",
    "step_range = 1000"
   ]
  },
  {
   "cell_type": "code",
   "execution_count": 260,
   "metadata": {
    "scrolled": true
   },
   "outputs": [],
   "source": [
    "results = average_method_stat(f, (1,), (xa, ya), (xb, yb), steps_number, step_range)"
   ]
  },
  {
   "cell_type": "code",
   "execution_count": 270,
   "metadata": {},
   "outputs": [],
   "source": [
    "def print_stat(results):\n",
    "    print(\"+-------+-----------+-------+-----------+\")\n",
    "    print(f\"|   N   |   error   |   N   |   error   |\")\n",
    "    print(\"+-------+-----------+-------+-----------+\")\n",
    "    for i in range(steps_number):\n",
    "\n",
    "        print(f\"|{step_range:^7}|{results[1][0][i]:^11.6g}|{step_range*(i+1):^7}|{results[1][1][i]:^11.6g}|\")\n",
    "    print(\"+-------+-----------+-------+-----------+\")\n",
    "    "
   ]
  },
  {
   "cell_type": "code",
   "execution_count": 271,
   "metadata": {
    "scrolled": true
   },
   "outputs": [
    {
     "name": "stdout",
     "output_type": "stream",
     "text": [
      "+-------+-----------+-------+-----------+\n",
      "|   N   |   error   |   N   |   error   |\n",
      "+-------+-----------+-------+-----------+\n",
      "| 1000  |  95.5282  | 1000  |  95.5282  |\n",
      "| 1000  |  50.6749  | 2000  |  54.0686  |\n",
      "| 1000  |  72.5556  | 3000  |  43.4077  |\n",
      "| 1000  |  68.4277  | 4000  |  36.7768  |\n",
      "| 1000  |  417.705  | 5000  |  88.5706  |\n",
      "| 1000  |  100.442  | 6000  |  75.6835  |\n",
      "| 1000  |  96.0619  | 7000  |  66.3072  |\n",
      "| 1000  |  61.2328  | 8000  |  58.5215  |\n",
      "| 1000  |  100.93   | 9000  |  53.2142  |\n",
      "| 1000  |  115.484  | 10000 |  49.2655  |\n",
      "+-------+-----------+-------+-----------+\n"
     ]
    }
   ],
   "source": [
    "print_stat(results)"
   ]
  },
  {
   "cell_type": "code",
   "execution_count": 290,
   "metadata": {},
   "outputs": [
    {
     "name": "stdout",
     "output_type": "stream",
     "text": [
      "365.94107463787657\n"
     ]
    }
   ],
   "source": [
    "print((np.array(results[0][1])).mean())"
   ]
  },
  {
   "cell_type": "code",
   "execution_count": 266,
   "metadata": {},
   "outputs": [],
   "source": [
    "X_C = 0.01\n",
    "\n",
    "def g1(xx, pp):\n",
    "    x = xx[0]\n",
    "    y = xx[1]\n",
    "    return 1/(y + X_C/2)/(x**2)\n",
    "    \n",
    "def g2(xx, pp):\n",
    "    x = xx[0]\n",
    "    y = xx[1]\n",
    "    return 1/(x**2*(y + ROOT.TMath.Sin(x)/2)) - g1((x, y), pp)"
   ]
  },
  {
   "cell_type": "code",
   "execution_count": 267,
   "metadata": {},
   "outputs": [
    {
     "name": "stdout",
     "output_type": "stream",
     "text": [
      "525.0271858978484\n"
     ]
    }
   ],
   "source": [
    "def g1_x(x):\n",
    "    return -1/x\n",
    "\n",
    "def g1_y(y):\n",
    "    return math.log(y+x_const/2)\n",
    "\n",
    "g1_result = (g1_x(xb) - g1_x(xa))*(g1_y(yb) - g1_y(ya))\n",
    "print(g1_result)"
   ]
  },
  {
   "cell_type": "code",
   "execution_count": 287,
   "metadata": {},
   "outputs": [],
   "source": [
    "results_main_part = average_method_stat(g2, (1,), (xa, ya), (xb, yb), steps_number, step_range)"
   ]
  },
  {
   "cell_type": "code",
   "execution_count": 288,
   "metadata": {},
   "outputs": [
    {
     "name": "stdout",
     "output_type": "stream",
     "text": [
      "+-------+-----------+-------+-----------+\n",
      "|   N   |   error   |   N   |   error   |\n",
      "+-------+-----------+-------+-----------+\n",
      "| 1000  |  12.8867  | 1000  |  12.8867  |\n",
      "| 1000  |  32.739   | 2000  |  17.592   |\n",
      "| 1000  |  12.2269  | 3000  |  12.416   |\n",
      "| 1000  |  4.56648  | 4000  |  9.38173  |\n",
      "| 1000  |  16.2575  | 5000  |  8.17944  |\n",
      "| 1000  |  212.392  | 6000  |  36.0489  |\n",
      "| 1000  |  44.8691  | 7000  |  31.5569  |\n",
      "| 1000  |  86.9705  | 8000  |  29.6753  |\n",
      "| 1000  |  26.1371  | 9000  |  26.5375  |\n",
      "| 1000  |  10.2915  | 10000 |  23.9059  |\n",
      "+-------+-----------+-------+-----------+\n"
     ]
    }
   ],
   "source": [
    "print_stat(results_main_part)"
   ]
  },
  {
   "cell_type": "code",
   "execution_count": 289,
   "metadata": {},
   "outputs": [
    {
     "name": "stdout",
     "output_type": "stream",
     "text": [
      "443.8234962154641\n"
     ]
    }
   ],
   "source": [
    "print((np.array(results_main_part[0][1]) + g1_result).mean())"
   ]
  },
  {
   "cell_type": "code",
   "execution_count": null,
   "metadata": {},
   "outputs": [],
   "source": []
  }
 ],
 "metadata": {
  "kernelspec": {
   "display_name": "Python 3",
   "language": "python",
   "name": "python3"
  },
  "language_info": {
   "codemirror_mode": {
    "name": "ipython",
    "version": 3
   },
   "file_extension": ".py",
   "mimetype": "text/x-python",
   "name": "python",
   "nbconvert_exporter": "python",
   "pygments_lexer": "ipython3",
   "version": "3.6.8"
  }
 },
 "nbformat": 4,
 "nbformat_minor": 4
}
