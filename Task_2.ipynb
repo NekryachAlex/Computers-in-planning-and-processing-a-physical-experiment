{
 "cells": [
  {
   "cell_type": "code",
   "execution_count": 1,
   "metadata": {},
   "outputs": [
    {
     "name": "stdout",
     "output_type": "stream",
     "text": [
      "Welcome to JupyROOT 6.18/04\n"
     ]
    }
   ],
   "source": [
    "from ROOT import gRandom\n",
    "import numpy as np\n",
    "import ROOT\n"
   ]
  },
  {
   "cell_type": "code",
   "execution_count": 2,
   "metadata": {},
   "outputs": [],
   "source": [
    "def f(x, p):\n",
    "    return p[0]*(1 / (x[0]**2 + 1) + 1 + x[0])"
   ]
  },
  {
   "cell_type": "code",
   "execution_count": 3,
   "metadata": {},
   "outputs": [],
   "source": [
    "a = -1\n",
    "b = 1\n",
    "n_count = 2000"
   ]
  },
  {
   "cell_type": "code",
   "execution_count": 5,
   "metadata": {},
   "outputs": [],
   "source": [
    "def Neyman(a, b, n_count, f, x_values):\n",
    "    \n",
    "    max_f = np.max([f(x,[1,]) for x in x_values])\n",
    "    while True:\n",
    "        e = gRandom.Uniform(0, 1)\n",
    "        n = gRandom.Uniform(0, 1)\n",
    "        r = (b-a)*e + a\n",
    "        r_value = [r,]\n",
    "        m = max_f*n\n",
    "        if m <= f(r_value, [1,]):\n",
    "            return r\n",
    "    "
   ]
  },
  {
   "cell_type": "code",
   "execution_count": 6,
   "metadata": {},
   "outputs": [],
   "source": [
    "random_values = np.arange(n_count, dtype = np.float32)"
   ]
  },
  {
   "cell_type": "code",
   "execution_count": 7,
   "metadata": {
    "scrolled": true
   },
   "outputs": [
    {
     "name": "stdout",
     "output_type": "stream",
     "text": [
      "Real time 0:00:10, CP time 10.740\n"
     ]
    }
   ],
   "source": [
    "x_values = np.linspace(a, b, n_count).reshape(-1,1)\n",
    "\n",
    "ROOT.sw = ROOT.TStopwatch()\n",
    "ROOT.sw.Start()\n",
    "\n",
    "for i in range (n_count):\n",
    "    random_values[i] = Neyman(a, b, n_count, f, x_values)\n",
    "ROOT.sw.Stop()\n",
    "ROOT.sw.Print()\n"
   ]
  },
  {
   "cell_type": "code",
   "execution_count": 8,
   "metadata": {},
   "outputs": [
    {
     "data": {
      "text/plain": [
       "(0.20185663, 0.52880365)"
      ]
     },
     "execution_count": 8,
     "metadata": {},
     "output_type": "execute_result"
    }
   ],
   "source": [
    "random_values.mean(), random_values.std()"
   ]
  },
  {
   "cell_type": "code",
   "execution_count": 9,
   "metadata": {},
   "outputs": [],
   "source": [
    "from ROOT import TH1F, TCanvas"
   ]
  },
  {
   "cell_type": "code",
   "execution_count": 10,
   "metadata": {},
   "outputs": [],
   "source": [
    "hist = TH1F(\"hist\", \"Histogram\", 30, -1, 1)\n"
   ]
  },
  {
   "cell_type": "code",
   "execution_count": 11,
   "metadata": {},
   "outputs": [],
   "source": [
    "for i in range(n_count):\n",
    "    hist.Fill(random_values[i])"
   ]
  },
  {
   "cell_type": "code",
   "execution_count": 12,
   "metadata": {},
   "outputs": [],
   "source": [
    "c1 = TCanvas(\"c1\", \"Histogram\", 500, 500)"
   ]
  },
  {
   "cell_type": "code",
   "execution_count": 13,
   "metadata": {},
   "outputs": [],
   "source": [
    "c1.DrawFrame(-1,0,1,500);\n"
   ]
  },
  {
   "cell_type": "code",
   "execution_count": 14,
   "metadata": {},
   "outputs": [],
   "source": [
    "from ROOT import TF1"
   ]
  },
  {
   "cell_type": "code",
   "execution_count": 15,
   "metadata": {},
   "outputs": [],
   "source": [
    "f1 = TF1(\"f\", f, -1, 1, 1)\n",
    "f1.SetParameter(0,1)"
   ]
  },
  {
   "cell_type": "code",
   "execution_count": 16,
   "metadata": {},
   "outputs": [],
   "source": [
    "hist.Draw(\"SAME\")\n",
    "f1.Draw(\"SAME\")"
   ]
  },
  {
   "cell_type": "code",
   "execution_count": 17,
   "metadata": {},
   "outputs": [],
   "source": [
    "#hist.Fit(f1, \"R1\")"
   ]
  },
  {
   "cell_type": "code",
   "execution_count": 18,
   "metadata": {},
   "outputs": [
    {
     "data": {
      "image/png": "[encoded data removed]",
      "text/plain": [
       "<IPython.core.display.Image object>"
      ]
     },
     "metadata": {},
     "output_type": "display_data"
    }
   ],
   "source": [
    "c1.Draw()"
   ]
  },
  {
   "cell_type": "code",
   "execution_count": 19,
   "metadata": {},
   "outputs": [],
   "source": [
    "def g1(x,p):\n",
    "    return (2 / np.pi) * (1 / (1 + x[0]**2)) * p[0]\n"
   ]
  },
  {
   "cell_type": "code",
   "execution_count": 20,
   "metadata": {},
   "outputs": [],
   "source": [
    "def g2(x, p):\n",
    "    return ((1 + x[0])*2/(4 + np.pi)) * p[0]"
   ]
  },
  {
   "cell_type": "code",
   "execution_count": 21,
   "metadata": {},
   "outputs": [
    {
     "data": {
      "text/plain": [
       "0.5600991535115574"
      ]
     },
     "execution_count": 21,
     "metadata": {},
     "output_type": "execute_result"
    }
   ],
   "source": [
    "a_1 = np.pi / (np.pi + 4)\n",
    "a_2 = 4 / (np.pi + 4) \n",
    "a_2"
   ]
  },
  {
   "cell_type": "code",
   "execution_count": 22,
   "metadata": {},
   "outputs": [],
   "source": [
    "def composition_method(p):\n",
    "    xi = gRandom.Uniform(0, 1)\n",
    "    success = gRandom.Binomial(1, p)\n",
    "    if success == 0:\n",
    "        return np.tan((xi -1)*np.pi)\n",
    "    else:\n",
    "        return -1 + 4*np.sqrt(xi)"
   ]
  },
  {
   "cell_type": "code",
   "execution_count": 23,
   "metadata": {},
   "outputs": [],
   "source": [
    "n_count = 100000"
   ]
  },
  {
   "cell_type": "code",
   "execution_count": 24,
   "metadata": {
    "scrolled": true
   },
   "outputs": [
    {
     "name": "stdout",
     "output_type": "stream",
     "text": [
      "Real time 0:00:00, CP time 0.350\n"
     ]
    }
   ],
   "source": [
    "p = a_2 \n",
    "random_values2 = np.arange(n_count, dtype = np.float32)\n",
    "\n",
    "x_values = np.linspace(a, b, n_count).reshape(-1,1)\n",
    "\n",
    "ROOT.sw = ROOT.TStopwatch()\n",
    "ROOT.sw.Start()\n",
    "\n",
    "for i in range (n_count):\n",
    "    random_values2[i] = composition_method(p)\n",
    "    \n",
    "    \n",
    "ROOT.sw.Stop()\n",
    "ROOT.sw.Print()\n"
   ]
  },
  {
   "cell_type": "code",
   "execution_count": 25,
   "metadata": {},
   "outputs": [],
   "source": [
    "hist2 = TH1F(\"hist2\", \"Histogram2\", 30, -1, 1)"
   ]
  },
  {
   "cell_type": "code",
   "execution_count": 26,
   "metadata": {},
   "outputs": [],
   "source": [
    "for i in range(n_count):\n",
    "    hist2.Fill(random_values2[i])"
   ]
  },
  {
   "cell_type": "code",
   "execution_count": 27,
   "metadata": {},
   "outputs": [
    {
     "data": {
      "text/plain": [
       "(0.20185663, 0.52880365)"
      ]
     },
     "execution_count": 27,
     "metadata": {},
     "output_type": "execute_result"
    }
   ],
   "source": [
    "random_values.mean(), random_values.std()"
   ]
  },
  {
   "cell_type": "code",
   "execution_count": 28,
   "metadata": {},
   "outputs": [],
   "source": [
    "c2 = TCanvas(\"c2\", \"Histogram2\", 500, 500)"
   ]
  },
  {
   "cell_type": "code",
   "execution_count": 29,
   "metadata": {},
   "outputs": [],
   "source": [
    "\n",
    "c2.DrawFrame(-1,0,1,2000);"
   ]
  },
  {
   "cell_type": "code",
   "execution_count": 30,
   "metadata": {},
   "outputs": [],
   "source": [
    "\n",
    "hist2.Draw(\"SAME\")"
   ]
  },
  {
   "cell_type": "code",
   "execution_count": 31,
   "metadata": {},
   "outputs": [
    {
     "data": {
      "image/png": "[encoded data removed]",
      "text/plain": [
       "<IPython.core.display.Image object>"
      ]
     },
     "metadata": {},
     "output_type": "display_data"
    }
   ],
   "source": [
    "c2.Draw()"
   ]
  },
  {
   "cell_type": "code",
   "execution_count": null,
   "metadata": {},
   "outputs": [],
   "source": []
  }
 ],
 "metadata": {
  "kernelspec": {
   "display_name": "Python 3",
   "language": "python",
   "name": "python3"
  },
  "language_info": {
   "codemirror_mode": {
    "name": "ipython",
    "version": 3
   },
   "file_extension": ".py",
   "mimetype": "text/x-python",
   "name": "python",
   "nbconvert_exporter": "python",
   "pygments_lexer": "ipython3",
   "version": "3.6.8"
  }
 },
 "nbformat": 4,
 "nbformat_minor": 4
}
