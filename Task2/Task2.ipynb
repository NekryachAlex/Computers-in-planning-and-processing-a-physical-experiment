{
 "cells": [
  {
   "cell_type": "code",
   "execution_count": 1,
   "metadata": {},
   "outputs": [
    {
     "name": "stdout",
     "output_type": "stream",
     "text": [
      "Welcome to JupyROOT 6.18/04\n"
     ]
    }
   ],
   "source": [
    "import numpy as np\n",
    "import ROOT"
   ]
  },
  {
   "cell_type": "code",
   "execution_count": 34,
   "metadata": {},
   "outputs": [],
   "source": [
    "def f(x, p):\n",
    "    return (1 / (x[0]**2 + 1.0) + 1.0 + x[0])*p[0]"
   ]
  },
  {
   "cell_type": "code",
   "execution_count": 35,
   "metadata": {},
   "outputs": [],
   "source": [
    "a = -1\n",
    "b = 1\n",
    "n_count = 100000\n",
    "attempts = 20"
   ]
  },
  {
   "cell_type": "code",
   "execution_count": 36,
   "metadata": {},
   "outputs": [],
   "source": [
    "x_values = np.linspace(a, b, n_count).reshape(-1,1)\n",
    "max_f = f(x_values[-1], [1,]) "
   ]
  },
  {
   "cell_type": "code",
   "execution_count": 37,
   "metadata": {},
   "outputs": [],
   "source": [
    "def Neyman(a, b, n_count, f, max_f):\n",
    "    while True:\n",
    "        e = ROOT.gRandom.Uniform(0, 1)\n",
    "        n = ROOT.gRandom.Uniform(0, 1)\n",
    "        r = (b-a)*e + a\n",
    "        r_value = [r,]\n",
    "        m = max_f*n\n",
    "        if m <= f(r_value, [1,]):\n",
    "            return r"
   ]
  },
  {
   "cell_type": "code",
   "execution_count": 38,
   "metadata": {},
   "outputs": [
    {
     "name": "stdout",
     "output_type": "stream",
     "text": [
      "mean: 0.186543807387352, std: 0.5221847891807556\n",
      "average CP time: 0.518500030040741\n"
     ]
    }
   ],
   "source": [
    "random_values = np.arange(n_count, dtype = np.float32)\n",
    "values = np.arange(attempts, dtype = np.float32)\n",
    "\n",
    "for k in range(attempts):\n",
    "    \n",
    "    ROOT.sw = ROOT.TStopwatch()\n",
    "    ROOT.sw.Start()\n",
    "\n",
    "    for i in range (n_count):\n",
    "        random_values[i] = Neyman(a, b, n_count, f, max_f)\n",
    "\n",
    "    ROOT.sw.Stop()\n",
    "    values[k] = ROOT.sw.CpuTime()\n",
    "\n",
    "print(f\"mean: {random_values.mean()}, std: {random_values.std()}\")\n",
    "\n",
    "Neyman_time = values.mean()\n",
    "\n",
    "print(f\"average CP time: {Neyman_time}\")"
   ]
  },
  {
   "cell_type": "code",
   "execution_count": 39,
   "metadata": {},
   "outputs": [],
   "source": [
    "from ROOT import TH1F, TCanvas, TF1"
   ]
  },
  {
   "cell_type": "code",
   "execution_count": 40,
   "metadata": {},
   "outputs": [
    {
     "name": "stderr",
     "output_type": "stream",
     "text": [
      "Warning in <TROOT::Append>: Replacing existing TH1: hist (Potential memory leak).\n"
     ]
    }
   ],
   "source": [
    "hist = TH1F(\"hist\", \"Histogram\", 300, -1, 1)\n",
    "\n",
    "for i in range(n_count):\n",
    "    hist.Fill(random_values[i])"
   ]
  },
  {
   "cell_type": "code",
   "execution_count": 70,
   "metadata": {
    "scrolled": true
   },
   "outputs": [
    {
     "name": "stderr",
     "output_type": "stream",
     "text": [
      "Warning in <TCanvas::Constructor>: Deleting canvas with same name: c1\n"
     ]
    }
   ],
   "source": [
    "c1 = TCanvas(\"c1\", \"Histogram\", 600, 300)"
   ]
  },
  {
   "cell_type": "code",
   "execution_count": 80,
   "metadata": {},
   "outputs": [],
   "source": [
    "f1 = TF1(\"f\", f, -1, 1, 1)\n",
    "f1.SetParameter(0,180)"
   ]
  },
  {
   "cell_type": "code",
   "execution_count": 81,
   "metadata": {},
   "outputs": [],
   "source": [
    "#hist.Fit(f1)"
   ]
  },
  {
   "cell_type": "code",
   "execution_count": 82,
   "metadata": {
    "scrolled": true
   },
   "outputs": [
    {
     "data": {
      "image/png": "[encoded data removed]",
      "text/plain": [
       "<IPython.core.display.Image object>"
      ]
     },
     "metadata": {},
     "output_type": "display_data"
    }
   ],
   "source": [
    "c1.DrawFrame(-1,0,1,500);\n",
    "\n",
    "f1.Draw(\"SAME\")\n",
    "hist.Draw(\"SAME\")\n",
    "c1.Draw()"
   ]
  },
  {
   "cell_type": "code",
   "execution_count": 83,
   "metadata": {},
   "outputs": [],
   "source": [
    "random = ROOT.TRandom2()"
   ]
  },
  {
   "cell_type": "code",
   "execution_count": 84,
   "metadata": {},
   "outputs": [],
   "source": [
    "def g1(x):\n",
    "    return 2/np.pi*(1/(1+x**2))\n",
    "def g2(x):\n",
    "    return 0.5*(1+x)"
   ]
  },
  {
   "cell_type": "code",
   "execution_count": 85,
   "metadata": {},
   "outputs": [],
   "source": [
    "a_1 = np.pi / (np.pi + 4)\n",
    "a_2 = 4 /(np.pi + 4) \n",
    "c = np.pi*0.5\n",
    "border_1 = -0.5*c\n",
    "border_2 = 0.5*c"
   ]
  },
  {
   "cell_type": "code",
   "execution_count": 86,
   "metadata": {},
   "outputs": [],
   "source": [
    "def composition_method(p):\n",
    "    choice = ROOT.gRandom.Uniform(0, 1)\n",
    "    xi = ROOT.gRandom.Uniform(0, 1)\n",
    "    if choice <= p:\n",
    "        return ROOT.TMath.Tan(np.pi*0.5*(xi - 0.5))\n",
    "    else:\n",
    "        return -1 + 2*ROOT.TMath.Sqrt(xi)"
   ]
  },
  {
   "cell_type": "code",
   "execution_count": 92,
   "metadata": {},
   "outputs": [],
   "source": [
    "\n",
    "def fastest_composition_method(p):\n",
    "    if ROOT.gRandom.Uniform(0, 1) <= p:\n",
    "        return ROOT.TMath.Tan(random.Uniform(border_1, border_2))\n",
    "    else:\n",
    "        return -1 + ROOT.TMath.Sqrt(random.Uniform(0, 4))"
   ]
  },
  {
   "cell_type": "code",
   "execution_count": 93,
   "metadata": {},
   "outputs": [
    {
     "name": "stdout",
     "output_type": "stream",
     "text": [
      "mean: 0.1867421418428421, std: 0.5205472111701965\n",
      "average CP time: 0.3760000169277191\n"
     ]
    }
   ],
   "source": [
    "for k in range(attempts):\n",
    "    ROOT.sw = ROOT.TStopwatch()\n",
    "    ROOT.sw.Start()\n",
    "\n",
    "    for i in range (n_count):\n",
    "        random_values[i] = composition_method(a_1)\n",
    "\n",
    "    ROOT.sw.Stop()\n",
    "    \n",
    "    values[k] = ROOT.sw.CpuTime()\n",
    "\n",
    "print(f\"mean: {random_values.mean()}, std: {random_values.std()}\")\n",
    "composition_method_time = values.mean()\n",
    "print(f\"average CP time: {composition_method_time}\")"
   ]
  },
  {
   "cell_type": "code",
   "execution_count": 89,
   "metadata": {},
   "outputs": [
    {
     "data": {
      "text/plain": [
       "1.3956933"
      ]
     },
     "execution_count": 89,
     "metadata": {},
     "output_type": "execute_result"
    }
   ],
   "source": [
    "Neyman_time/composition_method_time"
   ]
  },
  {
   "cell_type": "code",
   "execution_count": 94,
   "metadata": {},
   "outputs": [
    {
     "name": "stdout",
     "output_type": "stream",
     "text": [
      "mean: 0.18476445972919464, std: 0.5221598744392395\n",
      "average CP time: 0.3240000009536743\n"
     ]
    }
   ],
   "source": [
    "for k in range(attempts):\n",
    "    ROOT.sw = ROOT.TStopwatch()\n",
    "    ROOT.sw.Start()\n",
    "\n",
    "    for i in range (n_count):\n",
    "        random_values[i] = fastest_composition_method(a_1)\n",
    "\n",
    "    ROOT.sw.Stop()\n",
    "    \n",
    "    values[k] = ROOT.sw.CpuTime()\n",
    "\n",
    "print(f\"mean: {random_values.mean()}, std: {random_values.std()}\")\n",
    "fastest_composition_method_time = values.mean()\n",
    "print(f\"average CP time: {fastest_composition_method_time}\")"
   ]
  },
  {
   "cell_type": "code",
   "execution_count": 95,
   "metadata": {},
   "outputs": [
    {
     "data": {
      "text/plain": [
       "1.6003088"
      ]
     },
     "execution_count": 95,
     "metadata": {},
     "output_type": "execute_result"
    }
   ],
   "source": [
    "Neyman_time/fastest_composition_method_time"
   ]
  },
  {
   "cell_type": "code",
   "execution_count": 102,
   "metadata": {},
   "outputs": [
    {
     "name": "stderr",
     "output_type": "stream",
     "text": [
      "Warning in <TROOT::Append>: Replacing existing TH1: hist (Potential memory leak).\n"
     ]
    }
   ],
   "source": [
    "hist2 = TH1F(\"hist\", \"Histogram\", 300, -1, 1)\n",
    "\n",
    "for i in range(n_count):\n",
    "    hist2.Fill(random_values[i])"
   ]
  },
  {
   "cell_type": "code",
   "execution_count": 105,
   "metadata": {},
   "outputs": [
    {
     "data": {
      "image/png": "[encoded data removed]",
      "text/plain": [
       "<IPython.core.display.Image object>"
      ]
     },
     "metadata": {},
     "output_type": "display_data"
    }
   ],
   "source": [
    "f2 = TF1(\"f\", f, -1, 1, 1)\n",
    "f2.SetParameter(0,180)\n",
    "\n",
    "c1.DrawFrame(-1,0,1,500);\n",
    "f1.Draw(\"SAME\")\n",
    "hist2.Draw(\"SAME\")\n",
    "c1.Draw(\"SAME\")"
   ]
  },
  {
   "cell_type": "code",
   "execution_count": null,
   "metadata": {},
   "outputs": [],
   "source": []
  }
 ],
 "metadata": {
  "kernelspec": {
   "display_name": "Python 3",
   "language": "python",
   "name": "python3"
  },
  "language_info": {
   "codemirror_mode": {
    "name": "ipython",
    "version": 3
   },
   "file_extension": ".py",
   "mimetype": "text/x-python",
   "name": "python",
   "nbconvert_exporter": "python",
   "pygments_lexer": "ipython3",
   "version": "3.6.8"
  }
 },
 "nbformat": 4,
 "nbformat_minor": 4
}
